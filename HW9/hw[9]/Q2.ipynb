{
 "cells": [
  {
   "cell_type": "markdown",
   "metadata": {},
   "source": [
    "# Edge detection Kernels"
   ]
  },
  {
   "cell_type": "markdown",
   "metadata": {},
   "source": [
    "### Prewitt operator\n",
    "\n",
    "For Ix(x,y)\n",
    "\n",
    "    ⎡−1  0  1⎤\n",
    "    ⎢-1  0  1⎥\n",
    "    ⎣-1  0  1⎦\n",
    "For Iy\n",
    "\n",
    "    ⎡−1 −1 -1⎤\n",
    "    ⎢ 0  0  0⎥\n",
    "    ⎣ 1  1  1⎦\n"
   ]
  },
  {
   "cell_type": "markdown",
   "metadata": {},
   "source": [
    "### Sobel operator\n",
    "\n",
    "For Ix(x,y)\n",
    "\n",
    "    ⎡−1  0  1⎤\n",
    "    ⎢-2  0  2⎥\n",
    "    ⎣-1  0  1⎦\n",
    "\n",
    "For Iy(x,y)\n",
    "\n",
    "    ⎡−1 −2 -1⎤\n",
    "    ⎢ 0  0  0⎥\n",
    "    ⎣ 1  2  1⎦"
   ]
  },
  {
   "cell_type": "markdown",
   "metadata": {},
   "source": [
    "### Laplacian\n",
    "\n",
    "    ⎡ 0  1  0⎤\n",
    "    ⎢ 1 -4  1⎥\n",
    "    ⎣ 0  1  0⎦"
   ]
  },
  {
   "cell_type": "markdown",
   "metadata": {},
   "source": [
    "### hit or miss\n",
    "\n",
    "    ⎡ 0  1  0⎤\n",
    "    ⎢ 1 -1  1⎥\n",
    "    ⎣ 0  1  0⎦"
   ]
  },
  {
   "cell_type": "code",
   "execution_count": 1,
   "metadata": {},
   "outputs": [],
   "source": [
    "import numpy as np"
   ]
  },
  {
   "cell_type": "code",
   "execution_count": 2,
   "metadata": {},
   "outputs": [],
   "source": [
    "image = np.array(\n",
    "    [[1,1,1,1,1,1,1,1,1,1,1,1,1,1],\n",
    "     [1,1,1,1,1,1,0,0,1,1,1,1,1,1],\n",
    "     [1,1,1,1,1,0,0,0,0,0,1,1,1,1],\n",
    "     [1,1,1,1,0,0,0,0,0,1,1,1,1,1],\n",
    "     [1,1,1,1,0,0,0,0,0,0,0,1,1,1],\n",
    "     [1,1,0,0,0,0,0,0,0,1,1,1,1,1],\n",
    "     [1,1,0,0,0,0,0,0,0,0,0,0,1,1],\n",
    "     [1,1,1,1,1,0,0,0,0,1,0,1,1,1],\n",
    "     [1,1,0,1,0,0,0,0,0,1,0,1,1,1],\n",
    "     [1,1,0,0,0,0,0,0,0,0,0,1,1,1],\n",
    "     [1,1,1,1,0,1,1,1,0,1,1,1,1,1],\n",
    "     [1,1,1,1,1,1,1,1,0,1,1,1,1,1],\n",
    "     [1,1,1,1,1,1,1,1,1,1,1,1,1,1]]\n",
    ")"
   ]
  },
  {
   "cell_type": "code",
   "execution_count": 3,
   "metadata": {},
   "outputs": [],
   "source": [
    "kernel = np.array(\n",
    "    [[0,1,0],\n",
    "     [1,-1,1],\n",
    "     [0,1,0]]\n",
    ")"
   ]
  },
  {
   "cell_type": "code",
   "execution_count": 5,
   "metadata": {},
   "outputs": [],
   "source": [
    "image = image*255"
   ]
  },
  {
   "cell_type": "code",
   "execution_count": 8,
   "metadata": {},
   "outputs": [],
   "source": [
    "image = image.astype('uint8')"
   ]
  },
  {
   "cell_type": "code",
   "execution_count": 10,
   "metadata": {},
   "outputs": [
    {
     "name": "stdout",
     "output_type": "stream",
     "text": [
      "[[253 253 253 253 255 254 254 255 254 253 253 253]\n",
      " [253 253 253 255 254   0   0 255 253 254 253 253]\n",
      " [253 253 254 254   0   0   0 255   0 254 253 253]\n",
      " [253 254 255 255   0   0   0   0 254 253 254 253]\n",
      " [254 254 255   0   0   0   0 255   0 255 254 253]\n",
      " [254 254 255 255   0   0   0   0 254 255 253 254]\n",
      " [253 255 254   0 255   0   0 255   0 254 255 253]\n",
      " [254 253   0 254   0   0   0 255   0 254 254 253]\n",
      " [254 254 254   0 255 255 255   0 254 254 254 253]\n",
      " [253 254 255 253 255 254 255 254 255 254 253 253]\n",
      " [253 253 253 254 253 253 254 253 254 253 253 253]]\n"
     ]
    }
   ],
   "source": [
    "y, x = image.shape\n",
    "y = y - 2\n",
    "x = x - 2\n",
    "new_mat = np.zeros((y,x),dtype='uint8')\n",
    "for i in range(y):\n",
    "    for j in range(x):\n",
    "        new_mat[i][j] = np.sum(image[i:i+3, j:j+3]*kernel)\n",
    "print(new_mat)"
   ]
  }
 ],
 "metadata": {
  "kernelspec": {
   "display_name": "Python 3.10.2 64-bit",
   "language": "python",
   "name": "python3"
  },
  "language_info": {
   "codemirror_mode": {
    "name": "ipython",
    "version": 3
   },
   "file_extension": ".py",
   "mimetype": "text/x-python",
   "name": "python",
   "nbconvert_exporter": "python",
   "pygments_lexer": "ipython3",
   "version": "3.10.2"
  },
  "orig_nbformat": 4,
  "vscode": {
   "interpreter": {
    "hash": "0354d326129403289107761bee1c2024935d02ad6cbe1c7dd64c392723c72e60"
   }
  }
 },
 "nbformat": 4,
 "nbformat_minor": 2
}
