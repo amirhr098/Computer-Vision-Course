{
 "cells": [
  {
   "cell_type": "code",
   "execution_count": 1,
   "metadata": {},
   "outputs": [],
   "source": [
    "import numpy as np"
   ]
  },
  {
   "cell_type": "code",
   "execution_count": 2,
   "metadata": {},
   "outputs": [
    {
     "name": "stdout",
     "output_type": "stream",
     "text": [
      "[[10 10 10 20 10 10 20 10]\n",
      " [10 20 20 20 20 20 20 10]\n",
      " [10 10 10 20 10 20 20 10]\n",
      " [10 10 20 30 10 20 30 10]\n",
      " [10 10 30 10 10 30 10 20]\n",
      " [20 10 30 10 30 20 20 10]\n",
      " [20 20 20 20 20 10 20 10]\n",
      " [20 20 30 20 10 30 10 30]]\n"
     ]
    }
   ],
   "source": [
    "matrix = np.array(\n",
    "    [[1,1,1,2,1,1,2,1],\n",
    "     [1,2,2,2,2,2,2,1],\n",
    "     [1,1,1,2,1,2,2,1],\n",
    "     [1,1,2,3,1,2,3,1],\n",
    "     [1,1,3,1,1,3,1,2],\n",
    "     [2,1,3,1,3,2,2,1],\n",
    "     [2,2,2,2,2,1,2,1],\n",
    "     [2,2,3,2,1,3,1,3]]\n",
    ")\n",
    "matrix = matrix*10\n",
    "print(matrix)"
   ]
  },
  {
   "cell_type": "code",
   "execution_count": 3,
   "metadata": {},
   "outputs": [
    {
     "name": "stdout",
     "output_type": "stream",
     "text": [
      "[[10 10 10 10 10 20 10 20 20 10 20 20]\n",
      " [20 20 10 20 20 20 20 20 20 10 20 20]\n",
      " [10 10 10 10 10 20 10 10 20 10 20 10]\n",
      " [20 20 10 20 20 20 20 20 20 10 20 20]\n",
      " [10 10 10 10 10 20 10 20 20 10 20 20]\n",
      " [20 10 10 10 20 30 10 20 30 10 30 20]\n",
      " [30 10 10 10 30 10 10 30 10 20 10 30]\n",
      " [30 10 20 10 30 10 30 20 20 10 20 20]\n",
      " [20 20 20 20 20 20 20 10 20 10 20 10]\n",
      " [30 20 20 20 30 20 10 30 10 30 10 30]\n",
      " [20 20 20 20 20 20 20 10 20 10 20 10]\n",
      " [30 10 20 10 30 10 30 20 20 10 20 20]]\n"
     ]
    }
   ],
   "source": [
    "padded = np.pad(matrix,pad_width=2,mode='reflect')\n",
    "print(padded)"
   ]
  },
  {
   "cell_type": "code",
   "execution_count": 5,
   "metadata": {},
   "outputs": [],
   "source": [
    "kernel = [[1,1,1],\n",
    "          [1,0,0],\n",
    "          [1,0,0]]"
   ]
  },
  {
   "cell_type": "code",
   "execution_count": 6,
   "metadata": {},
   "outputs": [
    {
     "name": "stdout",
     "output_type": "stream",
     "text": [
      "[[ 60.  60.  50.  70.  70.  90.  80.  80.  90.  70.]\n",
      " [ 80.  80.  70.  90.  90. 100.  90.  80.  90.  70.]\n",
      " [ 60.  60.  50.  70.  70.  80.  70.  80.  90.  60.]\n",
      " [ 80.  70.  70.  80.  90. 110.  80.  90. 100.  70.]\n",
      " [ 80.  50.  50.  60.  90.  90.  70. 100.  90.  80.]\n",
      " [100.  50.  70.  80. 120.  80. 100. 110. 100.  90.]\n",
      " [100.  60.  90.  80. 100.  80. 100.  90.  80.  80.]\n",
      " [110.  80. 100.  90. 120. 100. 100.  90.  80.  90.]\n",
      " [110. 100. 100. 100. 110.  90.  80.  80.  80.  80.]\n",
      " [120.  90. 110. 100. 110.  90. 100. 100.  90.  90.]]\n"
     ]
    }
   ],
   "source": [
    "y, x = padded.shape\n",
    "y = y - 2\n",
    "x = x - 2\n",
    "new_mat = np.zeros((y,x))\n",
    "for i in range(y):\n",
    "    for j in range(x):\n",
    "        new_mat[i][j] = np.sum(padded[i:i+3, j:j+3]*kernel)\n",
    "print(new_mat)"
   ]
  }
 ],
 "metadata": {
  "kernelspec": {
   "display_name": "Python 3.10.2 64-bit",
   "language": "python",
   "name": "python3"
  },
  "language_info": {
   "codemirror_mode": {
    "name": "ipython",
    "version": 3
   },
   "file_extension": ".py",
   "mimetype": "text/x-python",
   "name": "python",
   "nbconvert_exporter": "python",
   "pygments_lexer": "ipython3",
   "version": "3.10.2"
  },
  "orig_nbformat": 4,
  "vscode": {
   "interpreter": {
    "hash": "0354d326129403289107761bee1c2024935d02ad6cbe1c7dd64c392723c72e60"
   }
  }
 },
 "nbformat": 4,
 "nbformat_minor": 2
}
