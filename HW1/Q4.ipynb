{
 "cells": [
  {
   "cell_type": "code",
   "execution_count": 1,
   "metadata": {},
   "outputs": [],
   "source": [
    "#1\n",
    "import cv2"
   ]
  },
  {
   "cell_type": "code",
   "execution_count": 2,
   "metadata": {},
   "outputs": [],
   "source": [
    "#2\n",
    "image = cv2.imread('background.png', cv2.IMREAD_COLOR)"
   ]
  },
  {
   "cell_type": "markdown",
   "metadata": {},
   "source": [
    "Parameters:\n",
    "\n",
    "1-filename\t    Name of file to be loaded.\n",
    "\n",
    "2-flags\t        Flag that can take values of cv::ImreadModes. example: IMREAD_UNCHANGED, IMREAD_GRAYSCALE, IMREAD_COLOR, etc.\n"
   ]
  },
  {
   "cell_type": "code",
   "execution_count": 3,
   "metadata": {},
   "outputs": [],
   "source": [
    "#3\n",
    "image = cv2.cvtColor(image,cv2.COLOR_BGR2RGB)"
   ]
  },
  {
   "cell_type": "code",
   "execution_count": 4,
   "metadata": {},
   "outputs": [],
   "source": [
    "#4\n",
    "image = cv2.resize(image, (570, 290))"
   ]
  },
  {
   "cell_type": "code",
   "execution_count": 5,
   "metadata": {},
   "outputs": [],
   "source": [
    "#5\n",
    "image = cv2.line(image, (5,5),(565,5),(0,0,0),1)\n",
    "image = cv2.line(image, (5,5),(5,285),(0,0,0),1)\n",
    "image = cv2.line(image, (565,5),(565,285),(0,0,0),1)\n",
    "image = cv2.line(image, (5,285),(565,285),(0,0,0),1)"
   ]
  },
  {
   "cell_type": "code",
   "execution_count": 6,
   "metadata": {},
   "outputs": [],
   "source": [
    "#6\n",
    "image = cv2.circle(image,(5,5),5,(255,0,0))\n",
    "image = cv2.circle(image,(565,5),5,(0,255,0))\n",
    "image = cv2.circle(image,(5,285),5,(0,0,255))\n",
    "image = cv2.circle(image,(565,285),5,(128,0,128))"
   ]
  },
  {
   "cell_type": "code",
   "execution_count": 7,
   "metadata": {},
   "outputs": [],
   "source": [
    "#7\n",
    "image = cv2.line(image, (5,5),(85,145),(0,0,0),1)\n",
    "image = cv2.line(image, (5,5),(165,145),(0,0,0),1)\n",
    "image = cv2.line(image, (5,5),(245,145),(0,0,0),1)\n",
    "image = cv2.line(image, (5,5),(325,145),(0,0,0),1)\n",
    "image = cv2.line(image, (5,5),(405,145),(0,0,0),1)\n",
    "image = cv2.line(image, (5,5),(485,145),(0,0,0),1)\n",
    "image = cv2.line(image, (5,5),(565,145),(0,0,0),1)\n",
    "\n",
    "image = cv2.line(image, (5,285),(85,145),(0,0,0),1)\n",
    "image = cv2.line(image, (5,285),(165,145),(0,0,0),1)\n",
    "image = cv2.line(image, (5,285),(245,145),(0,0,0),1)\n",
    "image = cv2.line(image, (5,285),(325,145),(0,0,0),1)\n",
    "image = cv2.line(image, (5,285),(405,145),(0,0,0),1)\n",
    "image = cv2.line(image, (5,285),(485,145),(0,0,0),1)\n",
    "image = cv2.line(image, (5,285),(565,145),(0,0,0),1)\n",
    "\n",
    "image = cv2.line(image, (565,5),(5,145),(0,0,0),1)\n",
    "image = cv2.line(image, (565,5),(85,145),(0,0,0),1)\n",
    "image = cv2.line(image, (565,5),(165,145),(0,0,0),1)\n",
    "image = cv2.line(image, (565,5),(245,145),(0,0,0),1)\n",
    "image = cv2.line(image, (565,5),(325,145),(0,0,0),1)\n",
    "image = cv2.line(image, (565,5),(405,145),(0,0,0),1)\n",
    "image = cv2.line(image, (565,5),(485,145),(0,0,0),1)\n",
    "\n",
    "image = cv2.line(image, (565,285),(5,145),(0,0,0),1)\n",
    "image = cv2.line(image, (565,285),(85,145),(0,0,0),1)\n",
    "image = cv2.line(image, (565,285),(165,145),(0,0,0),1)\n",
    "image = cv2.line(image, (565,285),(245,145),(0,0,0),1)\n",
    "image = cv2.line(image, (565,285),(325,145),(0,0,0),1)\n",
    "image = cv2.line(image, (565,285),(405,145),(0,0,0),1)\n",
    "image = cv2.line(image, (565,285),(485,145),(0,0,0),1)"
   ]
  },
  {
   "cell_type": "code",
   "execution_count": null,
   "metadata": {},
   "outputs": [],
   "source": [
    "cv2.imshow('Image Window', image)\n",
    "cv2.waitKey()"
   ]
  },
  {
   "cell_type": "code",
   "execution_count": 9,
   "metadata": {},
   "outputs": [
    {
     "data": {
      "text/plain": [
       "True"
      ]
     },
     "execution_count": 9,
     "metadata": {},
     "output_type": "execute_result"
    }
   ],
   "source": [
    "cv2.imwrite('mypic.jpg', image)"
   ]
  }
 ],
 "metadata": {
  "kernelspec": {
   "display_name": "Python 3.10.2 64-bit",
   "language": "python",
   "name": "python3"
  },
  "language_info": {
   "codemirror_mode": {
    "name": "ipython",
    "version": 3
   },
   "file_extension": ".py",
   "mimetype": "text/x-python",
   "name": "python",
   "nbconvert_exporter": "python",
   "pygments_lexer": "ipython3",
   "version": "3.10.2"
  },
  "orig_nbformat": 4,
  "vscode": {
   "interpreter": {
    "hash": "0354d326129403289107761bee1c2024935d02ad6cbe1c7dd64c392723c72e60"
   }
  }
 },
 "nbformat": 4,
 "nbformat_minor": 2
}
