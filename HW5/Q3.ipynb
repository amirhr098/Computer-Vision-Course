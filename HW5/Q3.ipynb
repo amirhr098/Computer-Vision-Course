{
 "cells": [
  {
   "cell_type": "code",
   "execution_count": 4,
   "metadata": {},
   "outputs": [],
   "source": [
    "import cv2 as cv\n",
    "import matplotlib.pyplot as plt\n",
    "import numpy as np"
   ]
  },
  {
   "cell_type": "code",
   "execution_count": 15,
   "metadata": {},
   "outputs": [],
   "source": [
    "matrix = np.array([\n",
    "[0,0,0,255,0],\n",
    "[0,0,0,255,0],\n",
    "[0,0,0,255,0],\n",
    "[0,0,0,255,0],\n",
    "[0,0,0,255,0]],'uint8')"
   ]
  },
  {
   "cell_type": "code",
   "execution_count": 25,
   "metadata": {},
   "outputs": [
    {
     "data": {
      "image/png": "[encoded data removed]",
      "text/plain": [
       "<Figure size 720x720 with 2 Axes>"
      ]
     },
     "metadata": {
      "needs_background": "light"
     },
     "output_type": "display_data"
    }
   ],
   "source": [
    "sobelx = cv.Sobel(matrix,cv.CV_64F,1,0,ksize=1)\n",
    "sobely = cv.Sobel(matrix,cv.CV_64F,0,1,ksize=1)\n",
    "plt.figure(figsize=(10, 10), constrained_layout=False)\n",
    "plt.subplot(121), plt.imshow(sobelx, \"gray\"), plt.title(\"Sobel X\")\n",
    "plt.subplot(122), plt.imshow(sobely, \"gray\"), plt.title(\"Sobel Y\")\n",
    "plt.show()"
   ]
  }
 ],
 "metadata": {
  "kernelspec": {
   "display_name": "Python 3.10.2 64-bit",
   "language": "python",
   "name": "python3"
  },
  "language_info": {
   "codemirror_mode": {
    "name": "ipython",
    "version": 3
   },
   "file_extension": ".py",
   "mimetype": "text/x-python",
   "name": "python",
   "nbconvert_exporter": "python",
   "pygments_lexer": "ipython3",
   "version": "3.10.2"
  },
  "orig_nbformat": 4,
  "vscode": {
   "interpreter": {
    "hash": "0354d326129403289107761bee1c2024935d02ad6cbe1c7dd64c392723c72e60"
   }
  }
 },
 "nbformat": 4,
 "nbformat_minor": 2
}
