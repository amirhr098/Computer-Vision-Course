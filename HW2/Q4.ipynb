{
 "cells": [
  {
   "cell_type": "code",
   "execution_count": 1,
   "metadata": {},
   "outputs": [],
   "source": [
    "import cv2\n",
    "import numpy as np\n",
    "import glob"
   ]
  },
  {
   "cell_type": "markdown",
   "metadata": {},
   "source": [
    "### 1"
   ]
  },
  {
   "cell_type": "code",
   "execution_count": 2,
   "metadata": {},
   "outputs": [],
   "source": [
    "image = cv2.imread('images/img1.png')"
   ]
  },
  {
   "cell_type": "code",
   "execution_count": null,
   "metadata": {},
   "outputs": [],
   "source": [
    "cv2.namedWindow(\"Image1\", cv2.WINDOW_NORMAL)\n",
    "cv2.imshow('Image1',image,)\n",
    "cv2.waitKey()"
   ]
  },
  {
   "cell_type": "markdown",
   "metadata": {},
   "source": [
    "با برسی خطوط لبه میز میتوان متوجه اعوجاج تصویر شد و دلیل آن نیز نوع لنز میباشد."
   ]
  },
  {
   "cell_type": "markdown",
   "metadata": {},
   "source": [
    "### 2"
   ]
  },
  {
   "cell_type": "code",
   "execution_count": 4,
   "metadata": {},
   "outputs": [],
   "source": [
    "ret, corners = cv2.findChessboardCorners(image, (24,17), None)"
   ]
  },
  {
   "cell_type": "markdown",
   "metadata": {},
   "source": [
    "### 3"
   ]
  },
  {
   "cell_type": "code",
   "execution_count": 5,
   "metadata": {},
   "outputs": [],
   "source": [
    "criteria = (cv2.TERM_CRITERIA_EPS + cv2.TERM_CRITERIA_MAX_ITER, 30, 0.001)"
   ]
  },
  {
   "cell_type": "code",
   "execution_count": 6,
   "metadata": {},
   "outputs": [],
   "source": [
    "gray = cv2.cvtColor(image, cv2.COLOR_BGR2GRAY)"
   ]
  },
  {
   "cell_type": "code",
   "execution_count": 7,
   "metadata": {},
   "outputs": [],
   "source": [
    "corners2 = cv2.cornerSubPix(gray, corners, (11,11), (-1,-1), criteria)"
   ]
  },
  {
   "cell_type": "code",
   "execution_count": null,
   "metadata": {},
   "outputs": [],
   "source": [
    "cv2.namedWindow(\"Corners\", cv2.WINDOW_NORMAL)\n",
    "cv2.drawChessboardCorners(image, (24,17), corners2, ret)\n",
    "cv2.imshow('Corners', image)\n",
    "cv2.waitKey()"
   ]
  },
  {
   "cell_type": "markdown",
   "metadata": {},
   "source": [
    "### 4"
   ]
  },
  {
   "cell_type": "code",
   "execution_count": 2,
   "metadata": {},
   "outputs": [
    {
     "name": "stdout",
     "output_type": "stream",
     "text": [
      "[[0. 0. 0.]\n",
      " [0. 0. 0.]\n",
      " [0. 0. 0.]\n",
      " ...\n",
      " [0. 0. 0.]\n",
      " [0. 0. 0.]\n",
      " [0. 0. 0.]]\n",
      "[[ 0.  0.  0.]\n",
      " [ 1.  0.  0.]\n",
      " [ 2.  0.  0.]\n",
      " ...\n",
      " [21. 16.  0.]\n",
      " [22. 16.  0.]\n",
      " [23. 16.  0.]]\n"
     ]
    },
    {
     "ename": "NameError",
     "evalue": "name 'corners' is not defined",
     "output_type": "error",
     "traceback": [
      "\u001b[1;31m---------------------------------------------------------------------------\u001b[0m",
      "\u001b[1;31mNameError\u001b[0m                                 Traceback (most recent call last)",
      "\u001b[1;32mc:\\Users\\Skygate OPR5\\Documents\\Codes\\OpenCV HW2\\Q4.ipynb Cell 14\u001b[0m in \u001b[0;36m<cell line: 8>\u001b[1;34m()\u001b[0m\n\u001b[0;32m      <a href='vscode-notebook-cell:/c%3A/Users/Skygate%20OPR5/Documents/Codes/OpenCV%20HW2/Q4.ipynb#X16sZmlsZQ%3D%3D?line=5'>6</a>\u001b[0m objpoints\u001b[39m.\u001b[39mappend(objp)\n\u001b[0;32m      <a href='vscode-notebook-cell:/c%3A/Users/Skygate%20OPR5/Documents/Codes/OpenCV%20HW2/Q4.ipynb#X16sZmlsZQ%3D%3D?line=6'>7</a>\u001b[0m imgpoints \u001b[39m=\u001b[39m []\n\u001b[1;32m----> <a href='vscode-notebook-cell:/c%3A/Users/Skygate%20OPR5/Documents/Codes/OpenCV%20HW2/Q4.ipynb#X16sZmlsZQ%3D%3D?line=7'>8</a>\u001b[0m imgpoints\u001b[39m.\u001b[39mappend(corners)\n",
      "\u001b[1;31mNameError\u001b[0m: name 'corners' is not defined"
     ]
    }
   ],
   "source": [
    "objp = np.zeros((17*24,3), np.float32)\n",
    "print(objp)\n",
    "objp[:,:2] = np.mgrid[0:24,0:17].T.reshape(-1,2)\n",
    "print(objp)\n",
    "objpoints = []\n",
    "objpoints.append(objp)\n",
    "imgpoints = []\n",
    "imgpoints.append(corners)"
   ]
  },
  {
   "cell_type": "code",
   "execution_count": 10,
   "metadata": {},
   "outputs": [],
   "source": [
    "ret, mtx, dist, rvecs, tvecs = cv2.calibrateCamera(objpoints, imgpoints, gray.shape[::-1], None, None)"
   ]
  },
  {
   "cell_type": "markdown",
   "metadata": {},
   "source": [
    "### 5"
   ]
  },
  {
   "cell_type": "code",
   "execution_count": 11,
   "metadata": {},
   "outputs": [
    {
     "name": "stdout",
     "output_type": "stream",
     "text": [
      "ret: 0.4085045614486528\n",
      "mtx: [[1.01020017e+03 0.00000000e+00 7.82625473e+02]\n",
      " [0.00000000e+00 1.02003650e+03 5.07602310e+02]\n",
      " [0.00000000e+00 0.00000000e+00 1.00000000e+00]]\n",
      "dist: [[-0.20773456  0.19897834  0.00076827 -0.01504764 -0.17925782]]\n",
      "rvecs:(array([[-0.02464362],\n",
      "       [ 0.0372673 ],\n",
      "       [-0.00955078]]),)\n",
      "tvecs: (array([[-23.81186856],\n",
      "       [ 17.32668341],\n",
      "       [ 60.67367447]]),)\n"
     ]
    }
   ],
   "source": [
    "print('ret: ' + str(ret))\n",
    "print('mtx: ' + str(mtx))\n",
    "print('dist: ' + str(dist))\n",
    "print('rvecs:' + str(rvecs))\n",
    "print('tvecs: ' + str(tvecs))"
   ]
  },
  {
   "cell_type": "markdown",
   "metadata": {},
   "source": [
    "### 6"
   ]
  },
  {
   "cell_type": "code",
   "execution_count": 12,
   "metadata": {},
   "outputs": [],
   "source": [
    "img = cv2.imread('images/img5.png')\n",
    "h,  w = img.shape[:2]\n",
    "newcameramtx, roi = cv2.getOptimalNewCameraMatrix(mtx, dist, (w,h), 1, (w,h))"
   ]
  },
  {
   "cell_type": "code",
   "execution_count": null,
   "metadata": {},
   "outputs": [],
   "source": [
    "dst = cv2.undistort(img, mtx, dist, None, newcameramtx)\n",
    "x, y, w, h = roi\n",
    "dst1 = dst[y:y+h, x:x+w]\n",
    "cv2.namedWindow(\"Calibrated\", cv2.WINDOW_NORMAL)\n",
    "cv2.imshow('Calibrated', dst1)\n",
    "cv2.waitKey()"
   ]
  },
  {
   "cell_type": "markdown",
   "metadata": {},
   "source": [
    "### 7"
   ]
  },
  {
   "cell_type": "code",
   "execution_count": 14,
   "metadata": {},
   "outputs": [],
   "source": [
    "objp = np.zeros((17*24,3), np.float32)\n",
    "objp[:,:2] = np.mgrid[0:24,0:17].T.reshape(-1,2)\n",
    "\n",
    "objpoints = []\n",
    "imgpoints = []\n",
    "images = glob.glob('images/*.png')\n",
    "for fname in images[:4]:\n",
    "    img = cv2.imread(fname)\n",
    "    gray = cv2.cvtColor(img, cv2.COLOR_BGR2GRAY)\n",
    "    ret, corners = cv2.findChessboardCorners(gray, (24,17), None)\n",
    "    if ret == True:\n",
    "        objpoints.append(objp)\n",
    "        corners2 = cv2.cornerSubPix(gray,corners, (11,11), (-1,-1), criteria)\n",
    "        imgpoints.append(corners)\n",
    "        cv2.drawChessboardCorners(img, (24,17), corners2, ret)"
   ]
  },
  {
   "cell_type": "code",
   "execution_count": 15,
   "metadata": {},
   "outputs": [],
   "source": [
    "ret, mtx, dist, rvecs, tvecs = cv2.calibrateCamera(objpoints, imgpoints, gray.shape[::-1], None, None)"
   ]
  },
  {
   "cell_type": "code",
   "execution_count": null,
   "metadata": {},
   "outputs": [],
   "source": [
    "img = cv2.imread('images/img5.png')\n",
    "h,  w = img.shape[:2]\n",
    "newcameramtx, roi = cv2.getOptimalNewCameraMatrix(mtx, dist, (w,h), 1, (w,h))\n",
    "dst = cv2.undistort(img, mtx, dist, None, newcameramtx)\n",
    "x, y, w, h = roi\n",
    "dst2 = dst[y:y+h, x:x+w]\n",
    "cv2.namedWindow(\"Calibrated With 4 images\", cv2.WINDOW_NORMAL)\n",
    "cv2.imshow('Calibrated With 4 images', dst2)\n",
    "cv2.namedWindow(\"Calibrated With img1.png\", cv2.WINDOW_NORMAL)\n",
    "cv2.imshow('Calibrated With img1.png', dst1)\n",
    "cv2.waitKey()\n",
    "cv2.imwrite('Calibrated With 4 images.png', dst2)\n",
    "cv2.imwrite('Calibrated With img1.png', dst1)"
   ]
  }
 ],
 "metadata": {
  "kernelspec": {
   "display_name": "Python 3.10.2 64-bit",
   "language": "python",
   "name": "python3"
  },
  "language_info": {
   "codemirror_mode": {
    "name": "ipython",
    "version": 3
   },
   "file_extension": ".py",
   "mimetype": "text/x-python",
   "name": "python",
   "nbconvert_exporter": "python",
   "pygments_lexer": "ipython3",
   "version": "3.10.2"
  },
  "orig_nbformat": 4,
  "vscode": {
   "interpreter": {
    "hash": "0354d326129403289107761bee1c2024935d02ad6cbe1c7dd64c392723c72e60"
   }
  }
 },
 "nbformat": 4,
 "nbformat_minor": 2
}
